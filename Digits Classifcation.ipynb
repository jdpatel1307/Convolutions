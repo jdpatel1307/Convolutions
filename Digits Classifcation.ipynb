{
  "cells": [
    {
      "cell_type": "code",
      "execution_count": null,
      "metadata": {
        "id": "Oo-yw2WaCaEh"
      },
      "outputs": [],
      "source": [
        "import numpy as np\n",
        "import pandas as pd\n",
        "from sklearn import datasets\n",
        "import matplotlib.pyplot as plt\n",
        "from sklearn import svm, metrics\n",
        "from sklearn.model_selection import train_test_split, KFold, GridSearchCV\n",
        "from sklearn.ensemble import RandomForestClassifier, GradientBoostingClassifier"
      ]
    },
    {
      "cell_type": "code",
      "execution_count": null,
      "metadata": {
        "id": "Rb7EO8VCChsR"
      },
      "outputs": [],
      "source": [
        "digits = datasets.load_digits()"
      ]
    },
    {
      "cell_type": "code",
      "execution_count": null,
      "metadata": {
        "id": "5kSb6xGWClUY"
      },
      "outputs": [],
      "source": [
        "X = digits.data"
      ]
    },
    {
      "cell_type": "code",
      "execution_count": null,
      "metadata": {
        "colab": {
          "base_uri": "https://localhost:8080/"
        },
        "id": "Hpf8FRojDWNA",
        "outputId": "63124ddc-e5c9-4f8e-9257-b94f36c34fa3"
      },
      "outputs": [
        {
          "data": {
            "text/plain": [
              "(1797, 64)"
            ]
          },
          "execution_count": 4,
          "metadata": {},
          "output_type": "execute_result"
        }
      ],
      "source": [
        "X.shape"
      ]
    },
    {
      "cell_type": "code",
      "execution_count": null,
      "metadata": {
        "id": "eUnUWk9vHzJw"
      },
      "outputs": [],
      "source": [
        "y = digits.target"
      ]
    },
    {
      "cell_type": "code",
      "execution_count": null,
      "metadata": {
        "colab": {
          "base_uri": "https://localhost:8080/",
          "height": 282
        },
        "id": "nKqhPba8CmbQ",
        "outputId": "c90e9d95-597a-49ca-f6e9-c3007b7848f5"
      },
      "outputs": [
        {
          "data": {
            "text/plain": [
              "<matplotlib.image.AxesImage at 0x7fd801fa40d0>"
            ]
          },
          "execution_count": 6,
          "metadata": {},
          "output_type": "execute_result"
        },
        {
          "data": {
            "image/png": "[encoded data removed]",
            "text/plain": [
              "<Figure size 432x288 with 1 Axes>"
            ]
          },
          "metadata": {},
          "output_type": "display_data"
        }
      ],
      "source": [
        "plt.gray()\n",
        "plt.imshow(X[11].reshape(8,8))"
      ]
    },
    {
      "cell_type": "code",
      "execution_count": null,
      "metadata": {
        "id": "uyBxdS25ECp-"
      },
      "outputs": [],
      "source": [
        "# Train Test Split\n",
        "#The reason to split before convoluting is to have same data across different architectures\n",
        "X_train, X_test, y_train, y_test = X[:1257], X[1257:], y[:1257], y[1257:]"
      ]
    },
    {
      "cell_type": "code",
      "execution_count": null,
      "metadata": {
        "id": "6t6I7FwV186k"
      },
      "outputs": [],
      "source": [
        "def sigmoid(x: np.array) -> np.array:\n",
        "  return 1 / (1 + np.exp(-x))"
      ]
    },
    {
      "cell_type": "code",
      "execution_count": null,
      "metadata": {
        "id": "Gl1njenetFro"
      },
      "outputs": [],
      "source": [
        "def convolute(a:np.array, b:np.array) -> float:\n",
        "  c = a * b\n",
        "  return np.sum(c)"
      ]
    },
    {
      "cell_type": "code",
      "execution_count": null,
      "metadata": {
        "id": "Nf-V9c9jtqFT"
      },
      "outputs": [],
      "source": [
        "def filt(input_mat, filter_mat, stride = 1, padding = 0):\n",
        "\n",
        "  h_0, w_0 = input_mat.shape\n",
        "\n",
        "  f = filter_mat.shape[0]\n",
        "\n",
        "  output_mat = []\n",
        "\n",
        "  if padding != 0:\n",
        "    #Appending columns on both sides first\n",
        "    zero_col = np.zeros((h_0, padding))\n",
        "\n",
        "    #On the left side first\n",
        "    input_mat = np.hstack((zero_col, input_mat))\n",
        "\n",
        "    #On the right side\n",
        "    input_mat = np.hstack((input_mat, zero_col))\n",
        "\n",
        "    #Updating the dimension\n",
        "    w_0 = input_mat.shape[1]\n",
        "\n",
        "    #On the top side\n",
        "    zero_row = np.zeros((padding, w_0))\n",
        "\n",
        "    input_mat = np.vstack((zero_row, input_mat))\n",
        "\n",
        "    #On the bottom side\n",
        "    input_mat = np.vstack((input_mat, zero_row))\n",
        "\n",
        "    #Updating the dimension\n",
        "    h_0 = input_mat.shape[0]\n",
        "\n",
        "\n",
        "  for h in range(0, h_0 - f + 1, stride):\n",
        "    for w in range(0, w_0 - f + 1, stride):\n",
        "        x = input_mat[h : h + f, w : w + f]\n",
        "\n",
        "        #Convolution operation\n",
        "        a = convolute(x, filter_mat)\n",
        "        output_mat.append(a)\n",
        "\n",
        "\n",
        "  #The dimensions of the output matrix\n",
        "  w_1 = int(1 + (w_0 - f) / stride) # Since the dimensions are updated after padding\n",
        "  h_1 = int(1 + (h_0 - f) / stride) # the padding term in ommitted from these formulas.\n",
        "\n",
        "  output_mat = np.array(output_mat).reshape(h_1, w_1)\n",
        "\n",
        "  return output_mat"
      ]
    },
    {
      "cell_type": "code",
      "execution_count": null,
      "metadata": {
        "id": "l5hENSKCCAaO"
      },
      "outputs": [],
      "source": [
        "#Generic pooling function\n",
        "def pooling(input_mat, pool_size = 1, stride = 1, padding = 0, pooling_type='max'):\n",
        "\n",
        "  h_0, w_0 = input_mat.shape\n",
        "\n",
        "  output_mat = []\n",
        "\n",
        "  if padding != 0:\n",
        "    #Appending columns on both sides first\n",
        "    zero_col = np.zeros((h_0, padding))\n",
        "\n",
        "    #On the left side first\n",
        "    input_mat = np.hstack((zero_col, input_mat))\n",
        "\n",
        "    #On the right side\n",
        "    input_mat = np.hstack((input_mat, zero_col))\n",
        "\n",
        "    #Updating the dimension\n",
        "    w_0 = input_mat.shape[1]\n",
        "\n",
        "    #On the top side\n",
        "    zero_row = np.zeros((padding, w_0))\n",
        "\n",
        "    input_mat = np.vstack((zero_row, input_mat))\n",
        "\n",
        "    #On the bottom side\n",
        "    input_mat = np.vstack((input_mat, zero_row))\n",
        "\n",
        "    #Updating the dimension\n",
        "    h_0 = input_mat.shape[0]\n",
        "\n",
        "  if pooling_type == 'max':\n",
        "    func = np.amax\n",
        "  elif pooling_type == 'min':\n",
        "    func = np.amin\n",
        "  elif pooling_type == 'mean':\n",
        "    func = np.mean\n",
        "  elif pooling_type == 'median':\n",
        "    func = np.median\n",
        "\n",
        "  for h in range(0, h_0 - pool_size + 1, stride):\n",
        "    for w in range(0, w_0 - pool_size + 1, stride):\n",
        "      a = func(input_mat[h : h + pool_size, w : w + pool_size])\n",
        "      output_mat.append(a)\n",
        "\n",
        "  #The dimensions of the output matrix\n",
        "  w_1 = int(1 + (w_0 - pool_size) / stride) # Since the dimensions are updated after padding,\n",
        "  h_1 = int(1 + (h_0 - pool_size) / stride) # the padding term in ommitted from these formulas.\n",
        "\n",
        "  output_mat = np.array(output_mat).reshape(h_1, w_1)\n",
        "\n",
        "  return output_mat"
      ]
    },
    {
      "cell_type": "code",
      "execution_count": null,
      "metadata": {
        "id": "LRD95rTeDuLF"
      },
      "outputs": [],
      "source": [
        "#Standard Filters\n",
        "\n",
        "#Vertical Edge Detection filter\n",
        "vert_edge_det = np.array([[1, 0, -1],\n",
        "                          [1, 0, -1],\n",
        "                          [1, 0, -1]])\n",
        "\n",
        "#Horizontal Edge Detection Filter\n",
        "hor_edge_det = np.array([[1, 1, 1],\n",
        "                         [0, 0, 0],\n",
        "                         [-1, -1, -1]])\n",
        "\n",
        "#Sharpening filter\n",
        "sharp_filt = np.array([[0, -1, 0],\n",
        "                       [-1, 5, -1],\n",
        "                       [0, -1, 0]])\n",
        "\n",
        "#Scharr filter\n",
        "scharr_filt = np.array([[3, 0, -3],\n",
        "                        [10, 0, -10],\n",
        "                        [3, 0, -3]])\n",
        "\n",
        "#Gaussian Filter\n",
        "gauss_ker = np.array([[1/16, 1/8, 1/16],\n",
        "                      [1/8, 1/4, 1/8],\n",
        "                      [1/16, 1/8, 1/16]])"
      ]
    },
    {
      "cell_type": "markdown",
      "metadata": {
        "id": "66JRF0DWV81m"
      },
      "source": [
        "### Scharr Filter without pooling"
      ]
    },
    {
      "cell_type": "code",
      "execution_count": null,
      "metadata": {
        "id": "PRFpJ2SRV_67"
      },
      "outputs": [],
      "source": [
        "train_conv_ = []\n",
        "\n",
        "for i in range(X_train.shape[0]):\n",
        "\n",
        "  #Generate feature map\n",
        "  feat_map_1 = filt(X_train[i].reshape(8, 8), scharr_filt)\n",
        "\n",
        "  train_conv_.append(np.hstack((X_train[i], feat_map_1.ravel())))"
      ]
    },
    {
      "cell_type": "code",
      "execution_count": null,
      "metadata": {
        "id": "v5VaawlGV_69"
      },
      "outputs": [],
      "source": [
        "train_conv_ = np.array(train_conv_)"
      ]
    },
    {
      "cell_type": "code",
      "execution_count": null,
      "metadata": {
        "id": "_A6QjuDSV_69"
      },
      "outputs": [],
      "source": [
        "test_conv_ = []\n",
        "\n",
        "for i in range(X_test.shape[0]):\n",
        "\n",
        "  #Generate feature map\n",
        "  feat_map_1 = filt(X_test[i].reshape(8, 8), scharr_filt)\n",
        "\n",
        "  test_conv_.append(np.hstack((X_test[i], feat_map_1.ravel())))"
      ]
    },
    {
      "cell_type": "code",
      "execution_count": null,
      "metadata": {
        "id": "kx2s1sgEV_6-"
      },
      "outputs": [],
      "source": [
        "test_conv_ = np.array(test_conv_)"
      ]
    },
    {
      "cell_type": "markdown",
      "metadata": {
        "id": "yXwv6wuoV_6-"
      },
      "source": [
        "#### RF"
      ]
    },
    {
      "cell_type": "code",
      "execution_count": null,
      "metadata": {
        "id": "uIPrcgMLV_6-"
      },
      "outputs": [],
      "source": [
        "rfc = RandomForestClassifier(n_jobs=-1)\n",
        "\n",
        "rfc_parameters = {'n_estimators': range(10,100,10),\n",
        "                  'max_depth': range(1,10),\n",
        "                  'min_samples_split': range(2,10)}"
      ]
    },
    {
      "cell_type": "code",
      "execution_count": null,
      "metadata": {
        "colab": {
          "base_uri": "https://localhost:8080/"
        },
        "id": "SGVmjVS5V_6-",
        "outputId": "13c89e34-9d11-4873-ddfa-6da1fdc0101c"
      },
      "outputs": [
        {
          "data": {
            "text/plain": [
              "GridSearchCV(cv=KFold(n_splits=3, random_state=None, shuffle=False),\n",
              "             estimator=RandomForestClassifier(n_jobs=-1),\n",
              "             param_grid={'max_depth': range(1, 10),\n",
              "                         'min_samples_split': range(2, 10),\n",
              "                         'n_estimators': range(10, 100, 10)})"
            ]
          },
          "execution_count": 34,
          "metadata": {},
          "output_type": "execute_result"
        }
      ],
      "source": [
        "rf_grid = GridSearchCV(rfc, param_grid=rfc_parameters, cv=KFold(3))\n",
        "\n",
        "rf_grid.fit(train_conv_, y_train)"
      ]
    },
    {
      "cell_type": "code",
      "execution_count": null,
      "metadata": {
        "colab": {
          "base_uri": "https://localhost:8080/"
        },
        "id": "S3QfD_FrV_6-",
        "outputId": "2b5af776-ef24-4e4b-c88a-9c69def8712c"
      },
      "outputs": [
        {
          "name": "stdout",
          "output_type": "stream",
          "text": [
            "Best parameters: {'max_depth': 8, 'min_samples_split': 5, 'n_estimators': 90}\n",
            "Best training score: 0.9276054097056484\n"
          ]
        }
      ],
      "source": [
        "print(\"Best parameters:\", rf_grid.best_params_)\n",
        "print(\"Best training score:\", rf_grid.best_score_)"
      ]
    },
    {
      "cell_type": "code",
      "execution_count": null,
      "metadata": {
        "id": "5G35QUZeV_6-"
      },
      "outputs": [],
      "source": [
        "rf_clf = rf_grid.best_estimator_\n",
        "rf_predicted = rf_clf.predict(test_conv_)\n",
        "rf_predict_prob = rf_clf.predict_proba(test_conv_)"
      ]
    },
    {
      "cell_type": "code",
      "execution_count": null,
      "metadata": {
        "colab": {
          "base_uri": "https://localhost:8080/",
          "height": 308
        },
        "id": "hvqtiHbvV_6-",
        "outputId": "7f8aa247-7903-40fa-b5d0-adacf2f52d75"
      },
      "outputs": [
        {
          "data": {
            "image/png": "[encoded data removed]",
            "text/plain": [
              "<Figure size 432x288 with 2 Axes>"
            ]
          },
          "metadata": {},
          "output_type": "display_data"
        }
      ],
      "source": [
        "disp = metrics.ConfusionMatrixDisplay.from_predictions(y_test, rf_predicted)\n",
        "disp.figure_.suptitle(\"RF Confusion Matrix\")\n",
        "\n",
        "plt.show()"
      ]
    },
    {
      "cell_type": "code",
      "execution_count": null,
      "metadata": {
        "colab": {
          "base_uri": "https://localhost:8080/"
        },
        "id": "o9FFlM-SV_6-",
        "outputId": "664ccf1c-c62c-4427-dfc6-2aa291c8c697"
      },
      "outputs": [
        {
          "name": "stdout",
          "output_type": "stream",
          "text": [
            "RF Classification report for classifier RandomForestClassifier(max_depth=8, min_samples_split=5, n_estimators=90,\n",
            "                       n_jobs=-1):\n",
            "              precision    recall  f1-score   support\n",
            "\n",
            "           0       0.96      0.98      0.97        53\n",
            "           1       0.80      0.81      0.80        53\n",
            "           2       1.00      0.85      0.92        53\n",
            "           3       0.93      0.75      0.83        53\n",
            "           4       0.96      0.95      0.96        57\n",
            "           5       0.91      0.95      0.93        56\n",
            "           6       0.96      0.94      0.95        54\n",
            "           7       0.93      0.98      0.95        54\n",
            "           8       0.82      0.87      0.84        52\n",
            "           9       0.78      0.93      0.85        55\n",
            "\n",
            "    accuracy                           0.90       540\n",
            "   macro avg       0.91      0.90      0.90       540\n",
            "weighted avg       0.91      0.90      0.90       540\n",
            "\n",
            "\n"
          ]
        }
      ],
      "source": [
        "print(\n",
        "    f\"RF Classification report for classifier {rf_clf}:\\n\"\n",
        "    f\"{metrics.classification_report(y_test, rf_predicted)}\\n\"\n",
        ")"
      ]
    },
    {
      "cell_type": "code",
      "source": [
        "rf_pred = pd.DataFrame(rf_predict_prob, columns=range(10))\n",
        "rf_pred['predicted'] = rf_predicted\n",
        "rf_pred['ground_truth'] = y_test\n",
        "\n",
        "rf_pred.head()"
      ],
      "metadata": {
        "colab": {
          "base_uri": "https://localhost:8080/",
          "height": 206
        },
        "id": "A3DRdefZdTg_",
        "outputId": "76be8aa3-289a-483d-f340-737f95bd3cde"
      },
      "execution_count": null,
      "outputs": [
        {
          "output_type": "execute_result",
          "data": {
            "text/plain": [
              "          0         1         2         3         4         5         6  \\\n",
              "0  0.051831  0.008502  0.000000  0.000000  0.886713  0.000172  0.025088   \n",
              "1  0.797067  0.000000  0.000000  0.000538  0.011235  0.083564  0.008941   \n",
              "2  0.000000  0.017424  0.000000  0.000000  0.004167  0.887639  0.022186   \n",
              "3  0.000000  0.034758  0.050498  0.848399  0.001220  0.005033  0.000000   \n",
              "4  0.010185  0.003333  0.006667  0.006667  0.008606  0.001984  0.952638   \n",
              "\n",
              "          7         8         9  predicted  ground_truth  \n",
              "0  0.027273  0.000000  0.000422          4             4  \n",
              "1  0.004762  0.066144  0.027750          0             0  \n",
              "2  0.012580  0.054721  0.001282          5             5  \n",
              "3  0.005358  0.048976  0.005759          3             3  \n",
              "4  0.004762  0.005159  0.000000          6             6  "
            ],
            "text/html": [
              "\n",
              "  <div id=\"df-d5b20afa-afc7-4d49-9ea0-994a00fbef52\">\n",
              "    <div class=\"colab-df-container\">\n",
              "      <div>\n",
              "<style scoped>\n",
              "    .dataframe tbody tr th:only-of-type {\n",
              "        vertical-align: middle;\n",
              "    }\n",
              "\n",
              "    .dataframe tbody tr th {\n",
              "        vertical-align: top;\n",
              "    }\n",
              "\n",
              "    .dataframe thead th {\n",
              "        text-align: right;\n",
              "    }\n",
              "</style>\n",
              "<table border=\"1\" class=\"dataframe\">\n",
              "  <thead>\n",
              "    <tr style=\"text-align: right;\">\n",
              "      <th></th>\n",
              "      <th>0</th>\n",
              "      <th>1</th>\n",
              "      <th>2</th>\n",
              "      <th>3</th>\n",
              "      <th>4</th>\n",
              "      <th>5</th>\n",
              "      <th>6</th>\n",
              "      <th>7</th>\n",
              "      <th>8</th>\n",
              "      <th>9</th>\n",
              "      <th>predicted</th>\n",
              "      <th>ground_truth</th>\n",
              "    </tr>\n",
              "  </thead>\n",
              "  <tbody>\n",
              "    <tr>\n",
              "      <th>0</th>\n",
              "      <td>0.051831</td>\n",
              "      <td>0.008502</td>\n",
              "      <td>0.000000</td>\n",
              "      <td>0.000000</td>\n",
              "      <td>0.886713</td>\n",
              "      <td>0.000172</td>\n",
              "      <td>0.025088</td>\n",
              "      <td>0.027273</td>\n",
              "      <td>0.000000</td>\n",
              "      <td>0.000422</td>\n",
              "      <td>4</td>\n",
              "      <td>4</td>\n",
              "    </tr>\n",
              "    <tr>\n",
              "      <th>1</th>\n",
              "      <td>0.797067</td>\n",
              "      <td>0.000000</td>\n",
              "      <td>0.000000</td>\n",
              "      <td>0.000538</td>\n",
              "      <td>0.011235</td>\n",
              "      <td>0.083564</td>\n",
              "      <td>0.008941</td>\n",
              "      <td>0.004762</td>\n",
              "      <td>0.066144</td>\n",
              "      <td>0.027750</td>\n",
              "      <td>0</td>\n",
              "      <td>0</td>\n",
              "    </tr>\n",
              "    <tr>\n",
              "      <th>2</th>\n",
              "      <td>0.000000</td>\n",
              "      <td>0.017424</td>\n",
              "      <td>0.000000</td>\n",
              "      <td>0.000000</td>\n",
              "      <td>0.004167</td>\n",
              "      <td>0.887639</td>\n",
              "      <td>0.022186</td>\n",
              "      <td>0.012580</td>\n",
              "      <td>0.054721</td>\n",
              "      <td>0.001282</td>\n",
              "      <td>5</td>\n",
              "      <td>5</td>\n",
              "    </tr>\n",
              "    <tr>\n",
              "      <th>3</th>\n",
              "      <td>0.000000</td>\n",
              "      <td>0.034758</td>\n",
              "      <td>0.050498</td>\n",
              "      <td>0.848399</td>\n",
              "      <td>0.001220</td>\n",
              "      <td>0.005033</td>\n",
              "      <td>0.000000</td>\n",
              "      <td>0.005358</td>\n",
              "      <td>0.048976</td>\n",
              "      <td>0.005759</td>\n",
              "      <td>3</td>\n",
              "      <td>3</td>\n",
              "    </tr>\n",
              "    <tr>\n",
              "      <th>4</th>\n",
              "      <td>0.010185</td>\n",
              "      <td>0.003333</td>\n",
              "      <td>0.006667</td>\n",
              "      <td>0.006667</td>\n",
              "      <td>0.008606</td>\n",
              "      <td>0.001984</td>\n",
              "      <td>0.952638</td>\n",
              "      <td>0.004762</td>\n",
              "      <td>0.005159</td>\n",
              "      <td>0.000000</td>\n",
              "      <td>6</td>\n",
              "      <td>6</td>\n",
              "    </tr>\n",
              "  </tbody>\n",
              "</table>\n",
              "</div>\n",
              "      <button class=\"colab-df-convert\" onclick=\"convertToInteractive('df-d5b20afa-afc7-4d49-9ea0-994a00fbef52')\"\n",
              "              title=\"Convert this dataframe to an interactive table.\"\n",
              "              style=\"display:none;\">\n",
              "        \n",
              "  <svg xmlns=\"http://www.w3.org/2000/svg\" height=\"24px\"viewBox=\"0 0 24 24\"\n",
              "       width=\"24px\">\n",
              "    <path d=\"M0 0h24v24H0V0z\" fill=\"none\"/>\n",
              "    <path d=\"M18.56 5.44l.94 2.06.94-2.06 2.06-.94-2.06-.94-.94-2.06-.94 2.06-2.06.94zm-11 1L8.5 8.5l.94-2.06 2.06-.94-2.06-.94L8.5 2.5l-.94 2.06-2.06.94zm10 10l.94 2.06.94-2.06 2.06-.94-2.06-.94-.94-2.06-.94 2.06-2.06.94z\"/><path d=\"M17.41 7.96l-1.37-1.37c-.4-.4-.92-.59-1.43-.59-.52 0-1.04.2-1.43.59L10.3 9.45l-7.72 7.72c-.78.78-.78 2.05 0 2.83L4 21.41c.39.39.9.59 1.41.59.51 0 1.02-.2 1.41-.59l7.78-7.78 2.81-2.81c.8-.78.8-2.07 0-2.86zM5.41 20L4 18.59l7.72-7.72 1.47 1.35L5.41 20z\"/>\n",
              "  </svg>\n",
              "      </button>\n",
              "      \n",
              "  <style>\n",
              "    .colab-df-container {\n",
              "      display:flex;\n",
              "      flex-wrap:wrap;\n",
              "      gap: 12px;\n",
              "    }\n",
              "\n",
              "    .colab-df-convert {\n",
              "      background-color: #E8F0FE;\n",
              "      border: none;\n",
              "      border-radius: 50%;\n",
              "      cursor: pointer;\n",
              "      display: none;\n",
              "      fill: #1967D2;\n",
              "      height: 32px;\n",
              "      padding: 0 0 0 0;\n",
              "      width: 32px;\n",
              "    }\n",
              "\n",
              "    .colab-df-convert:hover {\n",
              "      background-color: #E2EBFA;\n",
              "      box-shadow: 0px 1px 2px rgba(60, 64, 67, 0.3), 0px 1px 3px 1px rgba(60, 64, 67, 0.15);\n",
              "      fill: #174EA6;\n",
              "    }\n",
              "\n",
              "    [theme=dark] .colab-df-convert {\n",
              "      background-color: #3B4455;\n",
              "      fill: #D2E3FC;\n",
              "    }\n",
              "\n",
              "    [theme=dark] .colab-df-convert:hover {\n",
              "      background-color: #434B5C;\n",
              "      box-shadow: 0px 1px 3px 1px rgba(0, 0, 0, 0.15);\n",
              "      filter: drop-shadow(0px 1px 2px rgba(0, 0, 0, 0.3));\n",
              "      fill: #FFFFFF;\n",
              "    }\n",
              "  </style>\n",
              "\n",
              "      <script>\n",
              "        const buttonEl =\n",
              "          document.querySelector('#df-d5b20afa-afc7-4d49-9ea0-994a00fbef52 button.colab-df-convert');\n",
              "        buttonEl.style.display =\n",
              "          google.colab.kernel.accessAllowed ? 'block' : 'none';\n",
              "\n",
              "        async function convertToInteractive(key) {\n",
              "          const element = document.querySelector('#df-d5b20afa-afc7-4d49-9ea0-994a00fbef52');\n",
              "          const dataTable =\n",
              "            await google.colab.kernel.invokeFunction('convertToInteractive',\n",
              "                                                     [key], {});\n",
              "          if (!dataTable) return;\n",
              "\n",
              "          const docLinkHtml = 'Like what you see? Visit the ' +\n",
              "            '<a target=\"_blank\" href=https://colab.research.google.com/notebooks/data_table.ipynb>data table notebook</a>'\n",
              "            + ' to learn more about interactive tables.';\n",
              "          element.innerHTML = '';\n",
              "          dataTable['output_type'] = 'display_data';\n",
              "          await google.colab.output.renderOutput(dataTable, element);\n",
              "          const docLink = document.createElement('div');\n",
              "          docLink.innerHTML = docLinkHtml;\n",
              "          element.appendChild(docLink);\n",
              "        }\n",
              "      </script>\n",
              "    </div>\n",
              "  </div>\n",
              "  "
            ]
          },
          "metadata": {},
          "execution_count": 95
        }
      ]
    },
    {
      "cell_type": "code",
      "source": [
        "corr_class_rf = rf_pred.loc[rf_pred['predicted'] == rf_pred['ground_truth']].index\n",
        "incorr_class_rf = rf_pred.loc[rf_pred['predicted'] != rf_pred['ground_truth']].index"
      ],
      "metadata": {
        "id": "j4c5dUvIcG7v"
      },
      "execution_count": null,
      "outputs": []
    },
    {
      "cell_type": "code",
      "source": [
        "top_best_classified = rf_pred.iloc[corr_class_rf, :10].max(axis=1).nlargest(25).index"
      ],
      "metadata": {
        "id": "x4AvAZP0eIoO"
      },
      "execution_count": null,
      "outputs": []
    },
    {
      "cell_type": "code",
      "source": [
        "#These indices have been hand picked since 0's were predicted with highest probability\n",
        "disp_ind = [50, 223, 412, 417, 516, 241]"
      ],
      "metadata": {
        "id": "rtPIKS51ffWP"
      },
      "execution_count": null,
      "outputs": []
    },
    {
      "cell_type": "code",
      "source": [
        "fig, axes = plt.subplots(3, 2, figsize=(7, 7))\n",
        "fig.subplots_adjust(bottom=0, top=0.92, hspace=0.05, wspace=0.05)\n",
        "\n",
        "for i, ax in enumerate(axes.flatten()):\n",
        "  ax.imshow(X_test[disp_ind[i]].reshape(8,8))\n",
        "  ax.set_title(f\"y={y_test[disp_ind[i]]}\")\n",
        "plt.suptitle(\"Correctly Classified Examples with High Probability\")\n",
        "plt.tight_layout();"
      ],
      "metadata": {
        "colab": {
          "base_uri": "https://localhost:8080/",
          "height": 514
        },
        "id": "4uzpk9FFgq47",
        "outputId": "ac334bfc-69fa-4314-8894-171215b2c845"
      },
      "execution_count": null,
      "outputs": [
        {
          "output_type": "display_data",
          "data": {
            "text/plain": [
              "<Figure size 504x504 with 6 Axes>"
            ],
            "image/png": "[encoded data removed]"
          },
          "metadata": {
            "needs_background": "light"
          }
        }
      ]
    },
    {
      "cell_type": "code",
      "source": [
        "disp_ind = np.random.choice(incorr_class_rf, size=6)\n",
        "disp_ind"
      ],
      "metadata": {
        "colab": {
          "base_uri": "https://localhost:8080/"
        },
        "id": "r4J7KV6ampbT",
        "outputId": "4e62dbab-0803-443f-db41-e00400ce190d"
      },
      "execution_count": null,
      "outputs": [
        {
          "output_type": "execute_result",
          "data": {
            "text/plain": [
              "array([336, 371, 228, 455, 331, 532])"
            ]
          },
          "metadata": {},
          "execution_count": 189
        }
      ]
    },
    {
      "cell_type": "code",
      "source": [
        "fig, axes = plt.subplots(3, 2, figsize=(7, 7))\n",
        "fig.subplots_adjust(bottom=0, top=0.92, hspace=0.05, wspace=0.05)\n",
        "\n",
        "for i, ax in enumerate(axes.flatten()):\n",
        "  ax.imshow(X_test[disp_ind[i]].reshape(8,8))\n",
        "  ax.set_title(f\"Actual={y_test[disp_ind[i]]}, predicted={rf_predicted[disp_ind[i]]}\")\n",
        "# plt.suptitle(\"InCorrectly Classified Examples with High Probability\")\n",
        "plt.tight_layout();"
      ],
      "metadata": {
        "colab": {
          "base_uri": "https://localhost:8080/",
          "height": 513
        },
        "id": "Ron4XcadnA_8",
        "outputId": "9ecaebcb-e67e-4283-d25b-40df7e85dc3c"
      },
      "execution_count": null,
      "outputs": [
        {
          "output_type": "display_data",
          "data": {
            "text/plain": [
              "<Figure size 504x504 with 6 Axes>"
            ],
            "image/png": "[encoded data removed]"
          },
          "metadata": {
            "needs_background": "light"
          }
        }
      ]
    },
    {
      "cell_type": "markdown",
      "metadata": {
        "id": "Dv8OUj5rV_6_"
      },
      "source": [
        "#### XGB"
      ]
    },
    {
      "cell_type": "code",
      "execution_count": null,
      "metadata": {
        "id": "YjanXEFWV_6_"
      },
      "outputs": [],
      "source": [
        "xgb = GradientBoostingClassifier()\n",
        "\n",
        "xgb_parameters = {'n_estimators': range(1,10),\n",
        "                  'max_depth':range(1,10),\n",
        "                  'min_samples_split':range(2,10)}"
      ]
    },
    {
      "cell_type": "code",
      "execution_count": null,
      "metadata": {
        "colab": {
          "base_uri": "https://localhost:8080/"
        },
        "id": "AWfO8GZ6V_6_",
        "outputId": "a96e21fe-624e-464a-f9ee-62fde9b18caa"
      },
      "outputs": [
        {
          "data": {
            "text/plain": [
              "GridSearchCV(cv=KFold(n_splits=3, random_state=None, shuffle=False),\n",
              "             estimator=GradientBoostingClassifier(), n_jobs=-1,\n",
              "             param_grid={'max_depth': range(1, 10),\n",
              "                         'min_samples_split': range(2, 10),\n",
              "                         'n_estimators': range(1, 10)})"
            ]
          },
          "execution_count": 40,
          "metadata": {},
          "output_type": "execute_result"
        }
      ],
      "source": [
        "xgb_grid = GridSearchCV(xgb, param_grid=xgb_parameters, cv=KFold(3), n_jobs=-1)\n",
        "\n",
        "xgb_grid.fit(train_conv_, y_train)"
      ]
    },
    {
      "cell_type": "code",
      "execution_count": null,
      "metadata": {
        "colab": {
          "base_uri": "https://localhost:8080/"
        },
        "id": "q2LKpqvPV_6_",
        "outputId": "64051307-6b2a-4cc2-ab46-704742689658"
      },
      "outputs": [
        {
          "name": "stdout",
          "output_type": "stream",
          "text": [
            "Best parameter: {'max_depth': 3, 'min_samples_split': 5, 'n_estimators': 9}\n",
            "Best training score: 0.8146380270485283\n"
          ]
        }
      ],
      "source": [
        "print(\"Best parameter:\", xgb_grid.best_params_)\n",
        "print(\"Best training score:\", xgb_grid.best_score_)"
      ]
    },
    {
      "cell_type": "code",
      "execution_count": null,
      "metadata": {
        "id": "QeYuM0NRV_6_"
      },
      "outputs": [],
      "source": [
        "xgb_clf = xgb_grid.best_estimator_"
      ]
    },
    {
      "cell_type": "code",
      "execution_count": null,
      "metadata": {
        "id": "yRlkDD45V_6_"
      },
      "outputs": [],
      "source": [
        "# Predict the value of the digit on the test subset\n",
        "xgb_predicted = xgb_clf.predict(test_conv_)\n",
        "xgb_predict_prob = xgb_clf.predict_proba(test_conv_)"
      ]
    },
    {
      "cell_type": "code",
      "execution_count": null,
      "metadata": {
        "colab": {
          "base_uri": "https://localhost:8080/"
        },
        "id": "Vn1dhCuQV_6_",
        "outputId": "e90dd3f5-139a-49e2-e762-73ed900b1c14"
      },
      "outputs": [
        {
          "name": "stdout",
          "output_type": "stream",
          "text": [
            "XGB Classification report for classifier GradientBoostingClassifier(min_samples_split=5, n_estimators=9):\n",
            "              precision    recall  f1-score   support\n",
            "\n",
            "           0       0.94      0.96      0.95        53\n",
            "           1       0.77      0.83      0.80        53\n",
            "           2       0.86      0.79      0.82        53\n",
            "           3       0.74      0.74      0.74        53\n",
            "           4       0.87      0.82      0.85        57\n",
            "           5       0.89      0.89      0.89        56\n",
            "           6       0.83      0.74      0.78        54\n",
            "           7       0.88      0.91      0.89        54\n",
            "           8       0.67      0.85      0.75        52\n",
            "           9       0.83      0.71      0.76        55\n",
            "\n",
            "    accuracy                           0.82       540\n",
            "   macro avg       0.83      0.82      0.82       540\n",
            "weighted avg       0.83      0.82      0.82       540\n",
            "\n",
            "\n"
          ]
        }
      ],
      "source": [
        "print(\n",
        "    f\"XGB Classification report for classifier {xgb_clf}:\\n\"\n",
        "    f\"{metrics.classification_report(y_test, xgb_predicted)}\\n\"\n",
        ")"
      ]
    },
    {
      "cell_type": "code",
      "execution_count": null,
      "metadata": {
        "colab": {
          "base_uri": "https://localhost:8080/",
          "height": 308
        },
        "id": "wGAWJlkLV_6_",
        "outputId": "93bfe39d-e32a-4eaa-c62d-444bab798dcf"
      },
      "outputs": [
        {
          "data": {
            "image/png": "[encoded data removed]",
            "text/plain": [
              "<Figure size 432x288 with 2 Axes>"
            ]
          },
          "metadata": {},
          "output_type": "display_data"
        }
      ],
      "source": [
        "disp = metrics.ConfusionMatrixDisplay.from_predictions(y_test, xgb_predicted)\n",
        "disp.figure_.suptitle(\"XGB Classifier Confusion Matrix\")\n",
        "\n",
        "plt.show()"
      ]
    },
    {
      "cell_type": "code",
      "source": [
        "xgb_pred = pd.DataFrame(xgb_predict_prob, columns=range(10))\n",
        "xgb_pred['predicted'] = xgb_predicted\n",
        "xgb_pred['ground_truth'] = y_test\n",
        "\n",
        "xgb_pred.head()"
      ],
      "metadata": {
        "colab": {
          "base_uri": "https://localhost:8080/",
          "height": 206
        },
        "outputId": "fe41c7a0-23be-49a7-c68f-10d7f64842c2",
        "id": "4RYyXY_xnW1x"
      },
      "execution_count": null,
      "outputs": [
        {
          "output_type": "execute_result",
          "data": {
            "text/plain": [
              "          0         1         2         3         4         5         6  \\\n",
              "0  0.025305  0.028705  0.025915  0.026360  0.762130  0.026435  0.025468   \n",
              "1  0.759145  0.028546  0.025772  0.026215  0.025233  0.027838  0.025433   \n",
              "2  0.022844  0.025696  0.022630  0.023797  0.022906  0.698476  0.023871   \n",
              "3  0.023960  0.026268  0.046788  0.746303  0.024026  0.024642  0.024301   \n",
              "4  0.025022  0.028384  0.025625  0.026066  0.025090  0.027772  0.753859   \n",
              "\n",
              "          7         8         9  predicted  ground_truth  \n",
              "0  0.026264  0.025663  0.027754          4             4  \n",
              "1  0.026119  0.025548  0.030152          0             0  \n",
              "2  0.022878  0.111308  0.025593          5             5  \n",
              "3  0.024153  0.029389  0.030170          3             3  \n",
              "4  0.025971  0.035267  0.026943          6             6  "
            ],
            "text/html": [
              "\n",
              "  <div id=\"df-e4fe8150-34a8-4ce3-b5f3-fdfffe408474\">\n",
              "    <div class=\"colab-df-container\">\n",
              "      <div>\n",
              "<style scoped>\n",
              "    .dataframe tbody tr th:only-of-type {\n",
              "        vertical-align: middle;\n",
              "    }\n",
              "\n",
              "    .dataframe tbody tr th {\n",
              "        vertical-align: top;\n",
              "    }\n",
              "\n",
              "    .dataframe thead th {\n",
              "        text-align: right;\n",
              "    }\n",
              "</style>\n",
              "<table border=\"1\" class=\"dataframe\">\n",
              "  <thead>\n",
              "    <tr style=\"text-align: right;\">\n",
              "      <th></th>\n",
              "      <th>0</th>\n",
              "      <th>1</th>\n",
              "      <th>2</th>\n",
              "      <th>3</th>\n",
              "      <th>4</th>\n",
              "      <th>5</th>\n",
              "      <th>6</th>\n",
              "      <th>7</th>\n",
              "      <th>8</th>\n",
              "      <th>9</th>\n",
              "      <th>predicted</th>\n",
              "      <th>ground_truth</th>\n",
              "    </tr>\n",
              "  </thead>\n",
              "  <tbody>\n",
              "    <tr>\n",
              "      <th>0</th>\n",
              "      <td>0.025305</td>\n",
              "      <td>0.028705</td>\n",
              "      <td>0.025915</td>\n",
              "      <td>0.026360</td>\n",
              "      <td>0.762130</td>\n",
              "      <td>0.026435</td>\n",
              "      <td>0.025468</td>\n",
              "      <td>0.026264</td>\n",
              "      <td>0.025663</td>\n",
              "      <td>0.027754</td>\n",
              "      <td>4</td>\n",
              "      <td>4</td>\n",
              "    </tr>\n",
              "    <tr>\n",
              "      <th>1</th>\n",
              "      <td>0.759145</td>\n",
              "      <td>0.028546</td>\n",
              "      <td>0.025772</td>\n",
              "      <td>0.026215</td>\n",
              "      <td>0.025233</td>\n",
              "      <td>0.027838</td>\n",
              "      <td>0.025433</td>\n",
              "      <td>0.026119</td>\n",
              "      <td>0.025548</td>\n",
              "      <td>0.030152</td>\n",
              "      <td>0</td>\n",
              "      <td>0</td>\n",
              "    </tr>\n",
              "    <tr>\n",
              "      <th>2</th>\n",
              "      <td>0.022844</td>\n",
              "      <td>0.025696</td>\n",
              "      <td>0.022630</td>\n",
              "      <td>0.023797</td>\n",
              "      <td>0.022906</td>\n",
              "      <td>0.698476</td>\n",
              "      <td>0.023871</td>\n",
              "      <td>0.022878</td>\n",
              "      <td>0.111308</td>\n",
              "      <td>0.025593</td>\n",
              "      <td>5</td>\n",
              "      <td>5</td>\n",
              "    </tr>\n",
              "    <tr>\n",
              "      <th>3</th>\n",
              "      <td>0.023960</td>\n",
              "      <td>0.026268</td>\n",
              "      <td>0.046788</td>\n",
              "      <td>0.746303</td>\n",
              "      <td>0.024026</td>\n",
              "      <td>0.024642</td>\n",
              "      <td>0.024301</td>\n",
              "      <td>0.024153</td>\n",
              "      <td>0.029389</td>\n",
              "      <td>0.030170</td>\n",
              "      <td>3</td>\n",
              "      <td>3</td>\n",
              "    </tr>\n",
              "    <tr>\n",
              "      <th>4</th>\n",
              "      <td>0.025022</td>\n",
              "      <td>0.028384</td>\n",
              "      <td>0.025625</td>\n",
              "      <td>0.026066</td>\n",
              "      <td>0.025090</td>\n",
              "      <td>0.027772</td>\n",
              "      <td>0.753859</td>\n",
              "      <td>0.025971</td>\n",
              "      <td>0.035267</td>\n",
              "      <td>0.026943</td>\n",
              "      <td>6</td>\n",
              "      <td>6</td>\n",
              "    </tr>\n",
              "  </tbody>\n",
              "</table>\n",
              "</div>\n",
              "      <button class=\"colab-df-convert\" onclick=\"convertToInteractive('df-e4fe8150-34a8-4ce3-b5f3-fdfffe408474')\"\n",
              "              title=\"Convert this dataframe to an interactive table.\"\n",
              "              style=\"display:none;\">\n",
              "        \n",
              "  <svg xmlns=\"http://www.w3.org/2000/svg\" height=\"24px\"viewBox=\"0 0 24 24\"\n",
              "       width=\"24px\">\n",
              "    <path d=\"M0 0h24v24H0V0z\" fill=\"none\"/>\n",
              "    <path d=\"M18.56 5.44l.94 2.06.94-2.06 2.06-.94-2.06-.94-.94-2.06-.94 2.06-2.06.94zm-11 1L8.5 8.5l.94-2.06 2.06-.94-2.06-.94L8.5 2.5l-.94 2.06-2.06.94zm10 10l.94 2.06.94-2.06 2.06-.94-2.06-.94-.94-2.06-.94 2.06-2.06.94z\"/><path d=\"M17.41 7.96l-1.37-1.37c-.4-.4-.92-.59-1.43-.59-.52 0-1.04.2-1.43.59L10.3 9.45l-7.72 7.72c-.78.78-.78 2.05 0 2.83L4 21.41c.39.39.9.59 1.41.59.51 0 1.02-.2 1.41-.59l7.78-7.78 2.81-2.81c.8-.78.8-2.07 0-2.86zM5.41 20L4 18.59l7.72-7.72 1.47 1.35L5.41 20z\"/>\n",
              "  </svg>\n",
              "      </button>\n",
              "      \n",
              "  <style>\n",
              "    .colab-df-container {\n",
              "      display:flex;\n",
              "      flex-wrap:wrap;\n",
              "      gap: 12px;\n",
              "    }\n",
              "\n",
              "    .colab-df-convert {\n",
              "      background-color: #E8F0FE;\n",
              "      border: none;\n",
              "      border-radius: 50%;\n",
              "      cursor: pointer;\n",
              "      display: none;\n",
              "      fill: #1967D2;\n",
              "      height: 32px;\n",
              "      padding: 0 0 0 0;\n",
              "      width: 32px;\n",
              "    }\n",
              "\n",
              "    .colab-df-convert:hover {\n",
              "      background-color: #E2EBFA;\n",
              "      box-shadow: 0px 1px 2px rgba(60, 64, 67, 0.3), 0px 1px 3px 1px rgba(60, 64, 67, 0.15);\n",
              "      fill: #174EA6;\n",
              "    }\n",
              "\n",
              "    [theme=dark] .colab-df-convert {\n",
              "      background-color: #3B4455;\n",
              "      fill: #D2E3FC;\n",
              "    }\n",
              "\n",
              "    [theme=dark] .colab-df-convert:hover {\n",
              "      background-color: #434B5C;\n",
              "      box-shadow: 0px 1px 3px 1px rgba(0, 0, 0, 0.15);\n",
              "      filter: drop-shadow(0px 1px 2px rgba(0, 0, 0, 0.3));\n",
              "      fill: #FFFFFF;\n",
              "    }\n",
              "  </style>\n",
              "\n",
              "      <script>\n",
              "        const buttonEl =\n",
              "          document.querySelector('#df-e4fe8150-34a8-4ce3-b5f3-fdfffe408474 button.colab-df-convert');\n",
              "        buttonEl.style.display =\n",
              "          google.colab.kernel.accessAllowed ? 'block' : 'none';\n",
              "\n",
              "        async function convertToInteractive(key) {\n",
              "          const element = document.querySelector('#df-e4fe8150-34a8-4ce3-b5f3-fdfffe408474');\n",
              "          const dataTable =\n",
              "            await google.colab.kernel.invokeFunction('convertToInteractive',\n",
              "                                                     [key], {});\n",
              "          if (!dataTable) return;\n",
              "\n",
              "          const docLinkHtml = 'Like what you see? Visit the ' +\n",
              "            '<a target=\"_blank\" href=https://colab.research.google.com/notebooks/data_table.ipynb>data table notebook</a>'\n",
              "            + ' to learn more about interactive tables.';\n",
              "          element.innerHTML = '';\n",
              "          dataTable['output_type'] = 'display_data';\n",
              "          await google.colab.output.renderOutput(dataTable, element);\n",
              "          const docLink = document.createElement('div');\n",
              "          docLink.innerHTML = docLinkHtml;\n",
              "          element.appendChild(docLink);\n",
              "        }\n",
              "      </script>\n",
              "    </div>\n",
              "  </div>\n",
              "  "
            ]
          },
          "metadata": {},
          "execution_count": 157
        }
      ]
    },
    {
      "cell_type": "code",
      "source": [
        "corr_class_xgb = xgb_pred.loc[xgb_pred['predicted'] == xgb_pred['ground_truth']].index\n",
        "incorr_class_xgb = xgb_pred.loc[xgb_pred['predicted'] != xgb_pred['ground_truth']].index"
      ],
      "metadata": {
        "id": "VJQFoj_enW1y"
      },
      "execution_count": null,
      "outputs": []
    },
    {
      "cell_type": "code",
      "source": [
        "top_best_classified = xgb_pred.iloc[corr_class_xgb, :10].max(axis=1).nlargest(25).index\n",
        "top_best_classified"
      ],
      "metadata": {
        "colab": {
          "base_uri": "https://localhost:8080/"
        },
        "id": "zuJMQpg_nW1y",
        "outputId": "f45975c5-a348-4567-b02e-808c2c93ce0c"
      },
      "execution_count": null,
      "outputs": [
        {
          "output_type": "execute_result",
          "data": {
            "text/plain": [
              "Int64Index([275,  63, 452, 466, 451,  77, 292, 394, 302, 293, 142,  96, 377,\n",
              "            193, 457, 427, 454, 368,  24, 267, 495,  13, 290, 190, 218],\n",
              "           dtype='int64')"
            ]
          },
          "metadata": {},
          "execution_count": 178
        }
      ]
    },
    {
      "cell_type": "code",
      "source": [
        "disp_ind = [275, 452, 451, 292, 293, 142]\n",
        "\n",
        "fig, axes = plt.subplots(3, 2, figsize=(7, 7))\n",
        "fig.subplots_adjust(bottom=0, top=0.92, hspace=0.05, wspace=0.05)\n",
        "\n",
        "for i, ax in enumerate(axes.flatten()):\n",
        "  ax.imshow(X_test[disp_ind[i]].reshape(8,8))\n",
        "  ax.set_title(f\"y={y_test[disp_ind[i]]}\")\n",
        "# plt.suptitle(\"Correctly Classified Examples with High Probability\")\n",
        "plt.tight_layout();"
      ],
      "metadata": {
        "colab": {
          "base_uri": "https://localhost:8080/",
          "height": 513
        },
        "outputId": "a92968a4-e9a2-4e0e-8945-956f9c98d2e4",
        "id": "-rSXxhXbnW1z"
      },
      "execution_count": null,
      "outputs": [
        {
          "output_type": "display_data",
          "data": {
            "text/plain": [
              "<Figure size 504x504 with 6 Axes>"
            ],
            "image/png": "[encoded data removed]"
          },
          "metadata": {
            "needs_background": "light"
          }
        }
      ]
    },
    {
      "cell_type": "code",
      "source": [
        "disp_ind = np.random.choice(incorr_class_xgb, size=6)\n",
        "disp_ind\n",
        "\n",
        "fig, axes = plt.subplots(3, 2, figsize=(7, 7))\n",
        "fig.subplots_adjust(bottom=0, top=0.92, hspace=0.05, wspace=0.05)\n",
        "\n",
        "for i, ax in enumerate(axes.flatten()):\n",
        "  ax.imshow(X_test[disp_ind[i]].reshape(8,8))\n",
        "  ax.set_title(f\"Actual={y_test[disp_ind[i]]}, predicted={xgb_predicted[disp_ind[i]]}\")\n",
        "# plt.suptitle(\"InCorrectly Classified Examples with High Probability\")\n",
        "plt.tight_layout();"
      ],
      "metadata": {
        "colab": {
          "base_uri": "https://localhost:8080/",
          "height": 513
        },
        "outputId": "fca75711-e1b8-415f-c39a-f2695883f5bc",
        "id": "csXRJt3bnW1z"
      },
      "execution_count": null,
      "outputs": [
        {
          "output_type": "display_data",
          "data": {
            "text/plain": [
              "<Figure size 504x504 with 6 Axes>"
            ],
            "image/png": "[encoded data removed]"
          },
          "metadata": {
            "needs_background": "light"
          }
        }
      ]
    },
    {
      "cell_type": "markdown",
      "source": [
        "Reference for confusion matrix & visualization code: https://scikit-learn.org/stable/auto_examples/classification/plot_digits_classification.html"
      ],
      "metadata": {
        "id": "wfhkoRk58UIX"
      }
    }
  ],
  "metadata": {
    "colab": {
      "provenance": []
    },
    "kernelspec": {
      "display_name": "Python 3",
      "name": "python3"
    },
    "language_info": {
      "name": "python"
    }
  },
  "nbformat": 4,
  "nbformat_minor": 0
}